{
  "nbformat": 4,
  "nbformat_minor": 0,
  "metadata": {
    "colab": {
      "provenance": []
    },
    "kernelspec": {
      "name": "python3",
      "display_name": "Python 3"
    },
    "language_info": {
      "name": "python"
    }
  },
  "cells": [
    {
      "cell_type": "code",
      "source": [
        "n = int(input())# кол-во предприятий\n",
        "capital = int(input())# начальный капитал\n",
        "table = [list(map(int, input().split())) for i in range(n)]#таблица с выплатами700"
      ],
      "metadata": {
        "colab": {
          "base_uri": "https://localhost:8080/"
        },
        "id": "4yG4XFKdcICY",
        "outputId": "c9e7a6f2-e347-46af-dc18-4966bbae3683"
      },
      "execution_count": 1,
      "outputs": [
        {
          "name": "stdout",
          "output_type": "stream",
          "text": [
            "4\n",
            "700\n",
            "0 3 5 7 8 9 10 10\n",
            "0 5 8 10 12 13 14 15\n",
            "0 8 13 17 20 23 25 27\n",
            "0 6 10 13 15 16 16 16\n"
          ]
        }
      ]
    },
    {
      "cell_type": "code",
      "source": [
        "result = {}  #словарь с ключами в виде максимальной прибыли и значениями в виде массивов кортежей(выплата , компания)"
      ],
      "metadata": {
        "id": "ASwtbqDCteMM"
      },
      "execution_count": 14,
      "outputs": []
    },
    {
      "cell_type": "code",
      "source": [
        "\n",
        "\n",
        "def dfs_serch(ostatok, summa ,company, stack):\n",
        "  \"\"\"\n",
        "    ostatok - деньги которые сейчас можем использовать\n",
        "    summa - накопленная прибыль\n",
        "    stack - массив кортежей (прибыль, компания)\n",
        "  \"\"\"\n",
        "  if company == 4:#если дошли до 4 компании выходим из рекурсии и добавляем суммарную прибыль и \"путь\" в виде кортежей в словарь\n",
        "    if result.get(summa, -1) == -1:\n",
        "      result[summa] = []\n",
        "    result[summa].append(stack.copy())\n",
        "    return\n",
        "  for i in range((ostatok//100)+1):#проходимся по всем сотням не превышающим остаток\n",
        "    summa += table[company][i]\n",
        "    stack.append((table[company][i], company))\n",
        "    dfs_serch(ostatok-(i*100), summa, company+1, stack)\n",
        "    stack.pop()\n",
        "    summa -= table[company][i]\n",
        "\n",
        "\n",
        "def print_result():\n",
        "  \"\"\"\n",
        "  функция форматированного вывода для максимальной прибыли и путя к ней\n",
        "  \"\"\"\n",
        "  temp = result[max(result.keys())]\n",
        "  if len(temp) == 1:#первый вариант вывода в случае одного пути до макс прибыли\n",
        "    temp.sort(key=lambda x: x[1])#сортируем чтобы при смене компании накапливащуу сумму обнулить\n",
        "    company = temp[0][0][1]\n",
        "    summa_f_company = temp[0][0][0]\n",
        "    for i in range(1, len(temp[0])):\n",
        "      if temp[0][i][1] != company:\n",
        "        print(\"It should be spent\", table[company].index(summa_f_company)*100, \"on company\", company+1)#вывод при смене компании\n",
        "        company = temp[0][i][1]\n",
        "        summa_f_company = temp[0][i][0]\n",
        "        continue\n",
        "      summa_f_company += temp[0][i][0]\n",
        "    print(\"It should be spent\", table[company].index(summa_f_company)*100, \"on company\", company+1)#вывод последней компании которая не сменяется\n",
        "  if len(temp) != 1:#в случае нескольких путей до макс прибыли\n",
        "    for i in range(len(temp)):#цикл для нескольких путей\n",
        "      print(\"Variant\", i+1)\n",
        "      temp[i].sort(key=lambda x: x[1])\n",
        "      company = temp[i][0][1]\n",
        "      summa_f_company = temp[i][0][0]\n",
        "      for j in range(1, len(temp[i])):\n",
        "        if temp[i][j][1] != company:\n",
        "          print(\"It should be spent\", table[company].index(summa_f_company)*100, \"on company\", company+1)\n",
        "          company = temp[i][j][1]\n",
        "          summa_f_company = temp[i][j][0]\n",
        "          continue\n",
        "        summa_f_company += temp[i][j][0]\n",
        "      print(\"It should be spent\", table[company].index(summa_f_company)*100, \"on company\", company+1)\n",
        "\n",
        "\n",
        "\n",
        "\n",
        "\n",
        "\n"
      ],
      "metadata": {
        "id": "lvJZd9HBcath"
      },
      "execution_count": 13,
      "outputs": []
    },
    {
      "cell_type": "code",
      "source": [
        "dfs_serch(capital, 0,0, [])\n",
        "print_result()"
      ],
      "metadata": {
        "colab": {
          "base_uri": "https://localhost:8080/"
        },
        "id": "4q45UuI2mroM",
        "outputId": "d8bc2cba-e9a5-48a6-c8cc-5aa3c0227bb7"
      },
      "execution_count": 15,
      "outputs": [
        {
          "output_type": "stream",
          "name": "stdout",
          "text": [
            "Variant 1\n",
            "It should be spent 0 on company 1\n",
            "It should be spent 100 on company 2\n",
            "It should be spent 300 on company 3\n",
            "It should be spent 300 on company 4\n",
            "Variant 2\n",
            "It should be spent 0 on company 1\n",
            "It should be spent 100 on company 2\n",
            "It should be spent 400 on company 3\n",
            "It should be spent 200 on company 4\n",
            "Variant 3\n",
            "It should be spent 0 on company 1\n",
            "It should be spent 200 on company 2\n",
            "It should be spent 300 on company 3\n",
            "It should be spent 200 on company 4\n",
            "Variant 4\n",
            "It should be spent 100 on company 1\n",
            "It should be spent 100 on company 2\n",
            "It should be spent 300 on company 3\n",
            "It should be spent 200 on company 4\n"
          ]
        }
      ]
    }
  ]
}