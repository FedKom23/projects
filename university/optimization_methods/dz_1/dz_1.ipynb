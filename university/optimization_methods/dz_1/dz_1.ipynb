{
  "nbformat": 4,
  "nbformat_minor": 0,
  "metadata": {
    "colab": {
      "provenance": []
    },
    "kernelspec": {
      "name": "python3",
      "display_name": "Python 3"
    },
    "language_info": {
      "name": "python"
    }
  },
  "cells": [
    {
      "cell_type": "code",
      "execution_count": 10,
      "metadata": {
        "id": "MRucNYSwCF62"
      },
      "outputs": [],
      "source": [
        "import numpy as np #для записи градиента и проверки условия остановки\n",
        "from scipy import optimize #для ондомерной оптимизации параметра a\n",
        "import sympy as sp #библиотека для производных\n",
        "from sympy import diff"
      ]
    },
    {
      "cell_type": "code",
      "source": [
        "x0, y0 = 0.9, -0.9 #начальная точка\n",
        "x,y = sp.symbols('x,y') #обозначения переменных чтобы потом вычислить производные\n",
        "eps = 0.01 #погрешность\n",
        "def f(x,y):\n",
        "   #ф-ция данная в задаче\n",
        "  return 1.5*y**2 + 3*x**2 + 3*y - 6*x + 1\n"
      ],
      "metadata": {
        "id": "4-Cdws0ZCsic"
      },
      "execution_count": 20,
      "outputs": []
    },
    {
      "cell_type": "code",
      "source": [
        "def grad(f, a, b): #ф-ция вычисления градиента\n",
        "  dx = diff(f(x,y), x).subs(sympy.Symbol(\"x\"), a).subs(sympy.Symbol(\"y\"), b) #значение частной производной по иксу в точке\n",
        "  dy = diff(f(x,y), y).subs(sympy.Symbol(\"y\"), b).subs(sympy.Symbol(\"x\"), a) #значение частной производной по игрику в точке\n",
        "  return np.array([dx, dy], dtype=float)#вывод градиента\n",
        "\n",
        "\n",
        "def find_alpha(f,x,y):\n",
        "  #ф-ция поиска альфы для наискорейшего спука и первой итерации сопряженных градиентов\n",
        "  df  = lambda a : f(x-a*grad(f,x,y)[0], y-a*grad(f,x,y)[1])\n",
        "  return optimize.minimize_scalar(df).x# ф-ция одномерной оптимизации (поиска минимума) в scipy\n",
        "\n",
        "def fast_fall(x,y,f,eps, k):\n",
        "  #ф-ция наискорейшего спуска\n",
        "  if max(abs(grad(f, x, y))) < eps: #условие выхода из рекурссии\n",
        "    print(\"наискорейший спуск\")\n",
        "    print(\"Pont[x_k,y_k] (\",x,y,\")\")\n",
        "    print(\"Gradient\", grad(f,x,y))\n",
        "    print(\"число итераций\", k)\n",
        "    return\n",
        "  alpha = find_alpha(f, x, y)\n",
        "  fast_fall(x-alpha*grad(f,x,y)[0], y-alpha*grad(f,x,y)[1], f, eps, k+1)\n",
        "\n",
        "\n",
        "def find_alpha_sg(f,x,y,b):\n",
        "  #находим альфа в одномерной ф-ции используя \"сопряженный градиент\"\n",
        "  df  = lambda a : f(x-a*b[0], y-a*b[1])\n",
        "  return optimize.minimize_scalar(df).x\n",
        "\n",
        "\n",
        "def sopr_grad(x,y,f,eps, k, new_grad):\n",
        "  #ф-ция сопряженных градиентов\n",
        "  if np.linalg.norm(grad(f, x, y)) < eps:\n",
        "    print(\"сопряженные градиенты\")\n",
        "    print(\"Pont[x_k,y_k] (\",x,y,\")\")\n",
        "    print(\"Gradient\", grad(f,x,y))\n",
        "    print(\"число итераций\", k)\n",
        "    return\n",
        "  if k == 0:# первая итерация как в методе наискорейшего спуска\n",
        "    alpha = find_alpha(f, x, y)\n",
        "    sopr_grad(x-alpha*grad(f,x,y)[0], y-alpha*grad(f,x,y)[1], f, eps, k+1, new_grad)\n",
        "  else:\n",
        "    del_grad = (np.linalg.norm(grad(f,x,y))**2)/(np.linalg.norm(new_grad)**2)#отношение норм для нового вспомагательного вектора\n",
        "    new_grad = grad(f,x,y)+del_grad*new_grad #новый вектор(\"сопряженный градиент\") в направлении убывания\n",
        "    alpha = find_alpha_sg(f, x, y, new_grad)\n",
        "    sopr_grad(x-alpha*new_grad[0], y-alpha*new_grad[1], f, eps, k+1, grad(f,x,y))\n",
        "\n",
        "\n",
        "\n"
      ],
      "metadata": {
        "id": "2JjhaNi2DwOp"
      },
      "execution_count": 21,
      "outputs": []
    },
    {
      "cell_type": "code",
      "source": [
        "fast_fall(0.9, -0.9, f, 0.01, 0) #запуск ф-ции наискорейшего спуска"
      ],
      "metadata": {
        "colab": {
          "base_uri": "https://localhost:8080/"
        },
        "id": "8j5C9tHbGRb-",
        "outputId": "2765489d-7dd7-4f90-bd10-0188cdd43e7f"
      },
      "execution_count": 22,
      "outputs": [
        {
          "output_type": "stream",
          "name": "stdout",
          "text": [
            "наискорейший спуск\n",
            "Pont[x_k,y_k] ( 1.000823040444604 -0.9967078264633902 )\n",
            "Gradient [0.00493824 0.00987652]\n",
            "число итераций 3\n"
          ]
        }
      ]
    },
    {
      "cell_type": "code",
      "source": [
        "sopr_grad(0.9, -0.9, f, 0.01, 0, grad(f, 0.9, -0.9))#запуск ф-ции сопряженных градиентов"
      ],
      "metadata": {
        "colab": {
          "base_uri": "https://localhost:8080/"
        },
        "id": "FGjhT4_pRpaF",
        "outputId": "e46fb490-c68a-487d-b724-1ec9372bc7fd"
      },
      "execution_count": 23,
      "outputs": [
        {
          "output_type": "stream",
          "name": "stdout",
          "text": [
            "сопряженные градиенты\n",
            "Pont[x_k,y_k] ( 1.000000009113279 -0.9999999898150752 )\n",
            "Gradient [5.46796741e-08 3.05547743e-08]\n",
            "число итераций 2\n"
          ]
        }
      ]
    },
    {
      "cell_type": "code",
      "source": [],
      "metadata": {
        "id": "_tcWnghIvlQa"
      },
      "execution_count": null,
      "outputs": []
    }
  ]
}